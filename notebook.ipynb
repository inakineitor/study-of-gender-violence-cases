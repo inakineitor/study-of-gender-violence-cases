{
 "cells": [
  {
   "cell_type": "code",
   "execution_count": 1,
   "metadata": {},
   "outputs": [
    {
     "name": "stdout",
     "output_type": "stream",
     "text": [
      "Requirement already satisfied: pixiedust_node in /anaconda3/lib/python3.6/site-packages (0.2.5)\n",
      "Requirement already satisfied: pandas in /anaconda3/lib/python3.6/site-packages (from pixiedust_node) (0.25.1)\n",
      "Requirement already satisfied: ipython in /anaconda3/lib/python3.6/site-packages (from pixiedust_node) (7.8.0)\n",
      "Requirement already satisfied: pixiedust in /anaconda3/lib/python3.6/site-packages (from pixiedust_node) (1.1.17)\n",
      "Requirement already satisfied: numpy>=1.13.3 in /anaconda3/lib/python3.6/site-packages (from pandas->pixiedust_node) (1.14.2)\n",
      "Requirement already satisfied: pytz>=2017.2 in /anaconda3/lib/python3.6/site-packages (from pandas->pixiedust_node) (2017.3)\n",
      "Requirement already satisfied: python-dateutil>=2.6.1 in /anaconda3/lib/python3.6/site-packages (from pandas->pixiedust_node) (2.6.1)\n",
      "Requirement already satisfied: traitlets>=4.2 in /anaconda3/lib/python3.6/site-packages (from ipython->pixiedust_node) (4.3.2)\n",
      "Requirement already satisfied: pickleshare in /anaconda3/lib/python3.6/site-packages (from ipython->pixiedust_node) (0.7.4)\n",
      "Requirement already satisfied: setuptools>=18.5 in /anaconda3/lib/python3.6/site-packages (from ipython->pixiedust_node) (40.6.2)\n",
      "Requirement already satisfied: decorator in /anaconda3/lib/python3.6/site-packages (from ipython->pixiedust_node) (4.4.0)\n",
      "Requirement already satisfied: jedi>=0.10 in /anaconda3/lib/python3.6/site-packages (from ipython->pixiedust_node) (0.15.1)\n",
      "Requirement already satisfied: backcall in /anaconda3/lib/python3.6/site-packages (from ipython->pixiedust_node) (0.1.0)\n",
      "Requirement already satisfied: pexpect; sys_platform != \"win32\" in /anaconda3/lib/python3.6/site-packages (from ipython->pixiedust_node) (4.3.1)\n",
      "Requirement already satisfied: appnope; sys_platform == \"darwin\" in /anaconda3/lib/python3.6/site-packages (from ipython->pixiedust_node) (0.1.0)\n",
      "Requirement already satisfied: pygments in /anaconda3/lib/python3.6/site-packages (from ipython->pixiedust_node) (2.2.0)\n",
      "Requirement already satisfied: prompt-toolkit<2.1.0,>=2.0.0 in /anaconda3/lib/python3.6/site-packages (from ipython->pixiedust_node) (2.0.9)\n",
      "Requirement already satisfied: markdown in /anaconda3/lib/python3.6/site-packages (from pixiedust->pixiedust_node) (3.1.1)\n",
      "Requirement already satisfied: geojson in /anaconda3/lib/python3.6/site-packages (from pixiedust->pixiedust_node) (2.5.0)\n",
      "Requirement already satisfied: colour in /anaconda3/lib/python3.6/site-packages (from pixiedust->pixiedust_node) (0.1.5)\n",
      "Requirement already satisfied: requests in /anaconda3/lib/python3.6/site-packages (from pixiedust->pixiedust_node) (2.22.0)\n",
      "Requirement already satisfied: lxml in /anaconda3/lib/python3.6/site-packages (from pixiedust->pixiedust_node) (4.1.1)\n",
      "Requirement already satisfied: astunparse in /anaconda3/lib/python3.6/site-packages (from pixiedust->pixiedust_node) (1.6.2)\n",
      "Requirement already satisfied: mpld3 in /anaconda3/lib/python3.6/site-packages (from pixiedust->pixiedust_node) (0.3)\n",
      "Requirement already satisfied: six>=1.5 in /anaconda3/lib/python3.6/site-packages (from python-dateutil>=2.6.1->pandas->pixiedust_node) (1.11.0)\n",
      "Requirement already satisfied: ipython_genutils in /anaconda3/lib/python3.6/site-packages (from traitlets>=4.2->ipython->pixiedust_node) (0.2.0)\n",
      "Requirement already satisfied: parso>=0.5.0 in /anaconda3/lib/python3.6/site-packages (from jedi>=0.10->ipython->pixiedust_node) (0.5.1)\n",
      "Requirement already satisfied: wcwidth in /anaconda3/lib/python3.6/site-packages (from prompt-toolkit<2.1.0,>=2.0.0->ipython->pixiedust_node) (0.1.7)\n",
      "Requirement already satisfied: idna<2.9,>=2.5 in /anaconda3/lib/python3.6/site-packages (from requests->pixiedust->pixiedust_node) (2.8)\n",
      "Requirement already satisfied: urllib3!=1.25.0,!=1.25.1,<1.26,>=1.21.1 in /anaconda3/lib/python3.6/site-packages (from requests->pixiedust->pixiedust_node) (1.22)\n",
      "Requirement already satisfied: chardet<3.1.0,>=3.0.2 in /anaconda3/lib/python3.6/site-packages (from requests->pixiedust->pixiedust_node) (3.0.4)\n",
      "Requirement already satisfied: certifi>=2017.4.17 in /anaconda3/lib/python3.6/site-packages (from requests->pixiedust->pixiedust_node) (2019.6.16)\n",
      "Requirement already satisfied: wheel<1.0,>=0.23.0 in /anaconda3/lib/python3.6/site-packages (from astunparse->pixiedust->pixiedust_node) (0.30.0)\n",
      "\u001b[33mYou are using pip version 18.1, however version 19.2.3 is available.\n",
      "You should consider upgrading via the 'pip install --upgrade pip' command.\u001b[0m\n",
      "Pixiedust database opened successfully\n"
     ]
    },
    {
     "data": {
      "text/html": [
       "\n",
       "        <div style=\"margin:10px\">\n",
       "            <a href=\"https://github.com/ibm-watson-data-lab/pixiedust\" target=\"_new\">\n",
       "                <img src=\"https://github.com/ibm-watson-data-lab/pixiedust/raw/master/docs/_static/pd_icon32.png\" style=\"float:left;margin-right:10px\"/>\n",
       "            </a>\n",
       "            <span>Pixiedust version 1.1.17</span>\n",
       "        </div>\n",
       "        "
      ],
      "text/plain": [
       "<IPython.core.display.HTML object>"
      ]
     },
     "metadata": {},
     "output_type": "display_data"
    },
    {
     "data": {
      "text/html": [
       "\n",
       "            <div style=\"margin:10px\"> \n",
       "            <a href=\"https://github.com/ibm-cds-labs/pixiedust_node\" target=\"_new\"> \n",
       "            <img src=\"https://github.com/ibm-cds-labs/pixiedust_node/raw/master/docs/_images/pdn_icon32.png\" style=\"float:left;margin-right:10px\"/> \n",
       "            </a> \n",
       "            <span>Pixiedust Node.js</span> \n",
       "            </div> \n"
      ],
      "text/plain": [
       "<IPython.core.display.HTML object>"
      ]
     },
     "metadata": {},
     "output_type": "display_data"
    }
   ],
   "source": [
    "!pip install pixiedust_node\n",
    "import pixiedust_node"
   ]
  },
  {
   "cell_type": "code",
   "execution_count": 10,
   "metadata": {},
   "outputs": [
    {
     "name": "stdout",
     "output_type": "stream",
     "text": [
      "/Users/inakineitor/.nvm/versions/node/v12.6.0/bin/npm install -s csv-parse\n",
      "+ csv-parse@4.4.6\n",
      "added 1 package from 16 contributors and audited 1 package in 1.24s\n",
      "found 0 vulnerabilities\n"
     ]
    }
   ],
   "source": [
    "npm.install(('csv-parse'))"
   ]
  },
  {
   "cell_type": "code",
   "execution_count": 12,
   "metadata": {},
   "outputs": [
    {
     "name": "stdout",
     "output_type": "stream",
     "text": [
      "/Users/inakineitor/.nvm/versions/node/v12.6.0/bin/npm list -s\n",
      "/Users/inakineitor/node\n",
      "└── csv-parse@4.4.6\n"
     ]
    }
   ],
   "source": [
    "npm.list()"
   ]
  },
  {
   "cell_type": "code",
   "execution_count": 18,
   "metadata": {},
   "outputs": [
    {
     "name": "stdout",
     "output_type": "stream",
     "text": [
      "Thrown:\n",
      "... ... ... ... ... ...\n",
      "Thrown:\n",
      "... ... ... Thrown:\n",
      "... ..... ..... ....... ....... ....... ....... ..... ..... ....... ....... ....... ....... ....... ..... ....... ....... ....... ....... ..... ..... ..... ....... ....... ....... ..... ... ... ... ... ... Thrown:\n",
      "Thrown:\n"
     ]
    }
   ],
   "source": [
    "%%node\n",
    "var parse = require('csv-parse/lib/sync');\n",
    "/*\n",
    "const { readFileSync } = require('fs');\n",
    "// require('colors');\n",
    "\n",
    "const { classifyCallerDescription, classifyGender, classifyCallerRealtionshipWithKidsPresent, classifyViolenceTypes, parseInteger, classifyAgeRange, classifyRelationshipBetweenAggressorAndVictim, classifyCallDerivation, parseTimestamp, classifyProvinceName } = require('./helpers');\n",
    "\n",
    "/* Importing CSV file */\n",
    "const callsCsvString = readFileSync('./calls.csv', { encoding: 'utf8' });\n",
    "\n",
    "/* Parsing CSV file */\n",
    "let parsedCalls = parse(callsCsvString, {\n",
    "  columns: true,\n",
    "  skip_empty_lines: true,\n",
    "});\n",
    "\n",
    "/* Printing the datafrane keys */\n",
    "// const callKeys = Object.keys(parsedCalls[0]);\n",
    "// console.log('===== Keys in Call Data ====='.green);\n",
    "// for (const key of callKeys) {\n",
    "//   console.log(key);\n",
    "// }\n",
    "// console.log();\n",
    "\n",
    "/* Processing dataframe types */\n",
    "const calls = parsedCalls.map(call => {\n",
    "  const processedCall = {\n",
    "    caseId: parseInteger(call.caso_id),\n",
    "    caller: {\n",
    "      description: classifyCallerDescription(call.llamante_descripcion),\n",
    "      gender: classifyGender(call.llamante_genero),\n",
    "      relationshipWithKidsPresent: classifyCallerRealtionshipWithKidsPresent(call.llamante_vinculo_ninios_presentes),\n",
    "    },\n",
    "    violenceTypes: classifyViolenceTypes(call.violencia_tipo),\n",
    "    victims: {\n",
    "      age: parseInteger(call.victima_edad),\n",
    "      ageRange: classifyAgeRange(call.victima_rango_etario),\n",
    "      gender: classifyGender(call.victima_genero),\n",
    "      number: parseInteger(call.victima_cantidad),\n",
    "    },\n",
    "    agressors: {\n",
    "      number: parseInteger(call.agresor_cantidad),\n",
    "      gender: classifyGender(call.agresor_genero),\n",
    "      relationshipWithVictim: classifyRelationshipBetweenAggressorAndVictim(call.agresor_relacion_victima),\n",
    "    },\n",
    "    derivation: classifyCallDerivation(call.llamado_derivacion),\n",
    "    timestamp: parseTimestamp(call.llamado_fecha_hora),\n",
    "    province: {\n",
    "      name: classifyProvinceName(call.llamado_provincia),\n",
    "      id: parseInteger(call.llamado_provincia_id),\n",
    "    },\n",
    "  };\n",
    "\n",
    "  processedCall.isADomesticViolenceCase = !(processedCall.callerDescription === 'NOT_A_CASE_OF_DOMESTIC_VIOLENCE' || (Array.isArray(processedCall.violenceTypes) && processedCall.violenceTypes[0] === 'NOT_A_CASE_OF_DOMESTIC_VIOLENCE') || processedCall.derivation === 'NOT_A_CASE_OF_DOMESTIC_VIOLENCE');\n",
    "\n",
    "  return processedCall;\n",
    "});\n",
    "*/"
   ]
  },
  {
   "cell_type": "code",
   "execution_count": null,
   "metadata": {},
   "outputs": [],
   "source": []
  }
 ],
 "metadata": {
  "kernelspec": {
   "display_name": "Python 3",
   "language": "python",
   "name": "python3"
  },
  "language_info": {
   "codemirror_mode": {
    "name": "ipython",
    "version": 3
   },
   "file_extension": ".py",
   "mimetype": "text/x-python",
   "name": "python",
   "nbconvert_exporter": "python",
   "pygments_lexer": "ipython3",
   "version": "3.6.4"
  }
 },
 "nbformat": 4,
 "nbformat_minor": 4
}
